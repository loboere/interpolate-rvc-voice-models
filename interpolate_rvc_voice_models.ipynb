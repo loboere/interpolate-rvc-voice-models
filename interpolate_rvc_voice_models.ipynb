{
  "nbformat": 4,
  "nbformat_minor": 0,
  "metadata": {
    "colab": {
      "provenance": [],
      "gpuType": "T4"
    },
    "kernelspec": {
      "name": "python3",
      "display_name": "Python 3"
    },
    "language_info": {
      "name": "python"
    },
    "accelerator": "GPU"
  },
  "cells": [
    {
      "cell_type": "markdown",
      "source": [
        "inter_value between 0 and 1 for mixed voices\n",
        "\n",
        "inter_value less than 0 or greater than 1 for crazy voices"
      ],
      "metadata": {
        "id": "8ZUhvHCu4pTM"
      }
    },
    {
      "cell_type": "code",
      "execution_count": 54,
      "metadata": {
        "cellView": "form",
        "id": "R8iOLwfinFn0"
      },
      "outputs": [],
      "source": [
        "#@title interpolate  rvc voice models\n",
        "from collections import OrderedDict\n",
        "import torch\n",
        "\n",
        "def extract(ckpt):\n",
        "            a = ckpt[\"model\"]\n",
        "            opt = OrderedDict()\n",
        "            opt[\"weight\"] = {}\n",
        "            for key in a.keys():\n",
        "                if \"enc_q\" in key:\n",
        "                    continue\n",
        "                opt[\"weight\"][key] = a[key]\n",
        "            return opt\n",
        "ckpt_target=\"modelApth\" #@param {type:\"string\"}\n",
        "ckpt_target2=\"modelBpth\" #@param {type:\"string\"}\n",
        "inter_value = 0.5 #@param {type:\"number\"}\n",
        "alpha1=inter_value\n",
        "out_name=\"modelC\" #@param {type:\"string\"}\n",
        "\n",
        "\n",
        "ckpt1 = torch.load(ckpt_target2, map_location=\"cpu\")\n",
        "ckpt2 = torch.load(ckpt_target, map_location=\"cpu\")\n",
        "cfg = ckpt1[\"config\"]\n",
        "\n",
        "if \"model\" in ckpt1:\n",
        "            ckpt1 = extract(ckpt1)\n",
        "else:\n",
        "            ckpt1 = ckpt1[\"weight\"]\n",
        "if \"model\" in ckpt2:\n",
        "            ckpt2 = extract(ckpt2)\n",
        "else:\n",
        "            ckpt2 = ckpt2[\"weight\"]\n",
        "\n",
        "opt = OrderedDict()\n",
        "opt[\"weight\"] = {}\n",
        "for key in ckpt1.keys():\n",
        "            # try:\n",
        "            if key == \"emb_g.weight\" and ckpt1[key].shape != ckpt2[key].shape:\n",
        "                min_shape0 = min(ckpt1[key].shape[0], ckpt2[key].shape[0])\n",
        "                opt[\"weight\"][key] = (\n",
        "                    alpha1 * (ckpt1[key][:min_shape0].float())\n",
        "                    + (1 - alpha1) * (ckpt2[key][:min_shape0].float())\n",
        "                ).half()\n",
        "            else:\n",
        "              opt[\"weight\"][key] = (\n",
        "                    alpha1 * (ckpt1[key].float()) + (1 - alpha1) * (ckpt2[key].float())\n",
        "                ).half()\n",
        "opt[\"config\"] = cfg\n",
        "\n",
        "opt[\"sr\"] = \"40k\"\n",
        "opt[\"f0\"] = 1\n",
        "opt[\"info\"] = \"100epoch\"\n",
        "torch.save(opt, out_name+\".pth\")"
      ]
    },
    {
      "cell_type": "code",
      "source": [
        "#@title Download interpolated  voices\n",
        "from google.colab import files\n",
        "files.download(out_name+\".pth\")"
      ],
      "metadata": {
        "colab": {
          "base_uri": "https://localhost:8080/",
          "height": 17
        },
        "cellView": "form",
        "id": "RrHaJL9s613k",
        "outputId": "70e2d655-0c98-45dc-e296-4e25680163cb"
      },
      "execution_count": 56,
      "outputs": [
        {
          "output_type": "display_data",
          "data": {
            "text/plain": [
              "<IPython.core.display.Javascript object>"
            ],
            "application/javascript": [
              "\n",
              "    async function download(id, filename, size) {\n",
              "      if (!google.colab.kernel.accessAllowed) {\n",
              "        return;\n",
              "      }\n",
              "      const div = document.createElement('div');\n",
              "      const label = document.createElement('label');\n",
              "      label.textContent = `Downloading \"${filename}\": `;\n",
              "      div.appendChild(label);\n",
              "      const progress = document.createElement('progress');\n",
              "      progress.max = size;\n",
              "      div.appendChild(progress);\n",
              "      document.body.appendChild(div);\n",
              "\n",
              "      const buffers = [];\n",
              "      let downloaded = 0;\n",
              "\n",
              "      const channel = await google.colab.kernel.comms.open(id);\n",
              "      // Send a message to notify the kernel that we're ready.\n",
              "      channel.send({})\n",
              "\n",
              "      for await (const message of channel.messages) {\n",
              "        // Send a message to notify the kernel that we're ready.\n",
              "        channel.send({})\n",
              "        if (message.buffers) {\n",
              "          for (const buffer of message.buffers) {\n",
              "            buffers.push(buffer);\n",
              "            downloaded += buffer.byteLength;\n",
              "            progress.value = downloaded;\n",
              "          }\n",
              "        }\n",
              "      }\n",
              "      const blob = new Blob(buffers, {type: 'application/binary'});\n",
              "      const a = document.createElement('a');\n",
              "      a.href = window.URL.createObjectURL(blob);\n",
              "      a.download = filename;\n",
              "      div.appendChild(a);\n",
              "      a.click();\n",
              "      div.remove();\n",
              "    }\n",
              "  "
            ]
          },
          "metadata": {}
        },
        {
          "output_type": "display_data",
          "data": {
            "text/plain": [
              "<IPython.core.display.Javascript object>"
            ],
            "application/javascript": [
              "download(\"download_394a1e7e-819d-494d-a6c1-1dece2dbeaf8\", \"modelMixed.pth\", 55022087)"
            ]
          },
          "metadata": {}
        }
      ]
    }
  ]
}